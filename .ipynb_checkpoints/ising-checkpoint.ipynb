{
 "cells": [
  {
   "cell_type": "markdown",
   "metadata": {},
   "source": [
    "# Monte Carlo Simulation of Ising model"
   ]
  },
  {
   "cell_type": "code",
   "execution_count": 1,
   "metadata": {
    "scrolled": true
   },
   "outputs": [
    {
     "data": {
      "image/png": "[encoded data removed]",
      "text/plain": [
       "<Figure size 921.6x633.6 with 1 Axes>"
      ]
     },
     "metadata": {},
     "output_type": "display_data"
    }
   ],
   "source": [
    "import numpy as np\n",
    "import random\n",
    "import copy\n",
    "import matplotlib.pyplot as plt\n",
    "import multiprocessing\n",
    "from multiprocessing import Pool\n",
    "import time\n",
    "start_time = time.time()\n",
    "plt.rcParams[\"text.usetex\"] = False\n",
    "plt.rc('font', family='serif')\n",
    "plt.style.use('seaborn-poster')\n",
    "N = 20 # a 20 \\times 20 square\n",
    "init_config = np.round(np.random.rand(20, 20));\n",
    "#init_config[:, :N//2]=1; init_config[:, N//2:]=0 # As an example, this is a equal interface initial state\n",
    "plt.spy(init_config); plt.show()\n",
    "init_config = (init_config-0.5)*2; init_config = np.int_(init_config)"
   ]
  },
  {
   "cell_type": "markdown",
   "metadata": {},
   "source": [
    "作为初猜的状态，自旋向上与自旋向下的分界线处于中间；"
   ]
  },
  {
   "cell_type": "markdown",
   "metadata": {},
   "source": [
    "This function returns the **net spin** and the **redistributed spin** state \n",
    "using a given **initial config** and **Temperature**"
   ]
  },
  {
   "cell_type": "code",
   "execution_count": 2,
   "metadata": {},
   "outputs": [],
   "source": [
    "def M_T(input_config, Temperature):\n",
    "    Spin_config = copy.deepcopy(input_config)\n",
    "    step = 0\n",
    "    Net_spin = [np.sum(Spin_config)]\n",
    "    while step <= 1000000:\n",
    "        site_a = np.round(random.random() * (N-1)); site_b = np.round(random.random() * (N-1))\n",
    "        site_a = np.int_(site_a); site_b = np.int_(site_b)\n",
    "        site_a_minus1 = site_a - 1; site_a_plus1 = site_a + 1\n",
    "        site_b_minus1 = site_b - 1; site_b_plus1 = site_b + 1\n",
    "        # Here is the boundary condition\n",
    "        if site_a == 0:\n",
    "            site_a_minus1 = (N-1)\n",
    "        if site_a == (N-1):\n",
    "            site_a_plus1 = 0\n",
    "        if site_b == 0:\n",
    "            site_b_minus1 = (N-1)\n",
    "        if site_b == (N-1):\n",
    "            site_b_plus1 = 0\n",
    "        beta_deltaE = - 2 * (1. / Temperature) * (-Spin_config[site_a, site_b]) * (\n",
    "            Spin_config[site_a, site_b] + Spin_config[site_a_minus1, site_b] +\n",
    "            Spin_config[site_a_plus1, site_b_minus1]+ Spin_config[site_a, site_b_plus1])\n",
    "        if beta_deltaE <= 0:\n",
    "            prob = 1\n",
    "            Spin_config[site_a, site_b] = (-Spin_config[site_a, site_b])\n",
    "        else:\n",
    "            prob = np.exp(-beta_deltaE)\n",
    "            random_x = random.random() \n",
    "            if prob >= random_x:\n",
    "                Spin_config[site_a, site_b] = (-Spin_config[site_a, site_b])\n",
    "            else:\n",
    "                pass\n",
    "        Net_spin.append(np.sum(Spin_config))\n",
    "        step += 1 \n",
    "    return Net_spin, Spin_config"
   ]
  },
  {
   "cell_type": "code",
   "execution_count": 3,
   "metadata": {},
   "outputs": [],
   "source": [
    "# Temperature = [1, 2, 4, 8]\n",
    "# for i in range(4):\n",
    "#     config = M_T(init_config, Temperature[i])[1]\n",
    "#     config = (config + 1) / 2\n",
    "#     plt.subplot(1, 4, i+1); plt.spy(config);plt.xlabel('T=%d J/$k_B$'%Temperature[i])\n",
    "# plt.show()"
   ]
  },
  {
   "cell_type": "markdown",
   "metadata": {},
   "source": [
    "A rough overview of the temperature influence on the equilibrium state, **5000 moves**"
   ]
  },
  {
   "cell_type": "code",
   "execution_count": 4,
   "metadata": {},
   "outputs": [],
   "source": [
    "def main(seed=None):\n",
    "    np.random.seed(seed)\n",
    "    net_spin_j = []\n",
    "    init_config = np.round(np.random.rand(20, 20));\n",
    "    init_config = (init_config-0.5)*2; init_config = np.int_(init_config)\n",
    "    net_spin_i = np.average(M_T(init_config, i)[0])\n",
    "    return net_spin_i"
   ]
  },
  {
   "cell_type": "code",
   "execution_count": 5,
   "metadata": {},
   "outputs": [
    {
     "name": "stdout",
     "output_type": "stream",
     "text": [
      "4\n"
     ]
    },
    {
     "name": "stderr",
     "output_type": "stream",
     "text": [
      "Process ForkPoolWorker-2:\n",
      "Process ForkPoolWorker-1:\n",
      "Process ForkPoolWorker-4:\n",
      "Traceback (most recent call last):\n",
      "  File \"/Users/jiang/anaconda/lib/python3.6/multiprocessing/process.py\", line 258, in _bootstrap\n",
      "    self.run()\n",
      "  File \"/Users/jiang/anaconda/lib/python3.6/multiprocessing/process.py\", line 93, in run\n",
      "    self._target(*self._args, **self._kwargs)\n",
      "Process ForkPoolWorker-3:\n",
      "  File \"/Users/jiang/anaconda/lib/python3.6/multiprocessing/pool.py\", line 119, in worker\n",
      "    result = (True, func(*args, **kwds))\n",
      "  File \"<ipython-input-4-64db13a43f22>\", line 6, in main\n",
      "    net_spin_i = np.average(M_T(init_config, i)[0])\n",
      "Traceback (most recent call last):\n",
      "  File \"<ipython-input-2-c572d10278d5>\", line 19, in M_T\n",
      "    beta_deltaE = - 2 * (1. / Temperature) * (-Spin_config[site_a, site_b]) * (\n",
      "KeyboardInterrupt\n",
      "  File \"/Users/jiang/anaconda/lib/python3.6/multiprocessing/process.py\", line 258, in _bootstrap\n",
      "    self.run()\n",
      "  File \"/Users/jiang/anaconda/lib/python3.6/multiprocessing/process.py\", line 93, in run\n",
      "    self._target(*self._args, **self._kwargs)\n",
      "  File \"/Users/jiang/anaconda/lib/python3.6/multiprocessing/pool.py\", line 119, in worker\n",
      "    result = (True, func(*args, **kwds))\n",
      "Traceback (most recent call last):\n",
      "  File \"/Users/jiang/anaconda/lib/python3.6/multiprocessing/process.py\", line 258, in _bootstrap\n",
      "    self.run()\n",
      "  File \"/Users/jiang/anaconda/lib/python3.6/multiprocessing/process.py\", line 93, in run\n",
      "    self._target(*self._args, **self._kwargs)\n",
      "Traceback (most recent call last):\n",
      "  File \"/Users/jiang/anaconda/lib/python3.6/multiprocessing/pool.py\", line 119, in worker\n",
      "    result = (True, func(*args, **kwds))\n",
      "  File \"<ipython-input-4-64db13a43f22>\", line 6, in main\n",
      "    net_spin_i = np.average(M_T(init_config, i)[0])\n",
      "  File \"<ipython-input-2-c572d10278d5>\", line 19, in M_T\n",
      "    beta_deltaE = - 2 * (1. / Temperature) * (-Spin_config[site_a, site_b]) * (\n",
      "KeyboardInterrupt\n",
      "  File \"<ipython-input-4-64db13a43f22>\", line 6, in main\n",
      "    net_spin_i = np.average(M_T(init_config, i)[0])\n",
      "  File \"<ipython-input-2-c572d10278d5>\", line 6, in M_T\n",
      "    site_a = np.round(random.random() * (N-1)); site_b = np.round(random.random() * (N-1))\n",
      "  File \"/Users/jiang/anaconda/lib/python3.6/multiprocessing/process.py\", line 258, in _bootstrap\n",
      "    self.run()\n",
      "  File \"/Users/jiang/anaconda/lib/python3.6/multiprocessing/process.py\", line 93, in run\n",
      "    self._target(*self._args, **self._kwargs)\n",
      "  File \"/Users/jiang/anaconda/lib/python3.6/multiprocessing/pool.py\", line 119, in worker\n",
      "    result = (True, func(*args, **kwds))\n",
      "  File \"<ipython-input-4-64db13a43f22>\", line 6, in main\n",
      "    net_spin_i = np.average(M_T(init_config, i)[0])\n",
      "  File \"/Users/jiang/anaconda/lib/python3.6/site-packages/numpy/core/fromnumeric.py\", line 2783, in round_\n",
      "    return around(a, decimals=decimals, out=out)\n",
      "  File \"<ipython-input-2-c572d10278d5>\", line 32, in M_T\n",
      "    Net_spin.append(np.sum(Spin_config))\n",
      "  File \"/Users/jiang/anaconda/lib/python3.6/site-packages/numpy/core/fromnumeric.py\", line 2769, in around\n",
      "    return _wrapfunc(a, 'round', decimals=decimals, out=out)\n",
      "KeyboardInterrupt\n",
      "  File \"/Users/jiang/anaconda/lib/python3.6/site-packages/numpy/core/fromnumeric.py\", line 1814, in sum\n",
      "    out=out, **kwargs)\n",
      "  File \"/Users/jiang/anaconda/lib/python3.6/site-packages/numpy/core/_methods.py\", line 32, in _sum\n",
      "    return umr_sum(a, axis, dtype, out, keepdims)\n",
      "KeyboardInterrupt\n"
     ]
    },
    {
     "ename": "KeyboardInterrupt",
     "evalue": "",
     "output_type": "error",
     "traceback": [
      "\u001b[0;31m---------------------------------------------------------------------------\u001b[0m",
      "\u001b[0;31mIndexError\u001b[0m                                Traceback (most recent call last)",
      "\u001b[0;32m/Users/jiang/anaconda/lib/python3.6/multiprocessing/pool.py\u001b[0m in \u001b[0;36mnext\u001b[0;34m(self, timeout)\u001b[0m\n\u001b[1;32m    719\u001b[0m             \u001b[0;32mtry\u001b[0m\u001b[0;34m:\u001b[0m\u001b[0;34m\u001b[0m\u001b[0;34m\u001b[0m\u001b[0m\n\u001b[0;32m--> 720\u001b[0;31m                 \u001b[0mitem\u001b[0m \u001b[0;34m=\u001b[0m \u001b[0mself\u001b[0m\u001b[0;34m.\u001b[0m\u001b[0m_items\u001b[0m\u001b[0;34m.\u001b[0m\u001b[0mpopleft\u001b[0m\u001b[0;34m(\u001b[0m\u001b[0;34m)\u001b[0m\u001b[0;34m\u001b[0m\u001b[0;34m\u001b[0m\u001b[0m\n\u001b[0m\u001b[1;32m    721\u001b[0m             \u001b[0;32mexcept\u001b[0m \u001b[0mIndexError\u001b[0m\u001b[0;34m:\u001b[0m\u001b[0;34m\u001b[0m\u001b[0;34m\u001b[0m\u001b[0m\n",
      "\u001b[0;31mIndexError\u001b[0m: pop from an empty deque",
      "\nDuring handling of the above exception, another exception occurred:\n",
      "\u001b[0;31mKeyboardInterrupt\u001b[0m                         Traceback (most recent call last)",
      "\u001b[0;32m<ipython-input-5-08ed0fa912f0>\u001b[0m in \u001b[0;36m<module>\u001b[0;34m()\u001b[0m\n\u001b[1;32m      5\u001b[0m     \u001b[0mprint\u001b[0m\u001b[0;34m(\u001b[0m\u001b[0mcores\u001b[0m\u001b[0;34m)\u001b[0m\u001b[0;34m\u001b[0m\u001b[0;34m\u001b[0m\u001b[0m\n\u001b[1;32m      6\u001b[0m     \u001b[0mpool\u001b[0m \u001b[0;34m=\u001b[0m \u001b[0mPool\u001b[0m\u001b[0;34m(\u001b[0m\u001b[0mprocesses\u001b[0m\u001b[0;34m=\u001b[0m\u001b[0mcores\u001b[0m\u001b[0;34m)\u001b[0m\u001b[0;34m\u001b[0m\u001b[0;34m\u001b[0m\u001b[0m\n\u001b[0;32m----> 7\u001b[0;31m     \u001b[0;32mfor\u001b[0m \u001b[0mnet_spin_i\u001b[0m \u001b[0;32min\u001b[0m \u001b[0mpool\u001b[0m\u001b[0;34m.\u001b[0m\u001b[0mimap\u001b[0m\u001b[0;34m(\u001b[0m\u001b[0mmain\u001b[0m\u001b[0;34m,\u001b[0m \u001b[0mrange\u001b[0m\u001b[0;34m(\u001b[0m\u001b[0;36m1000\u001b[0m\u001b[0;34m)\u001b[0m\u001b[0;34m)\u001b[0m\u001b[0;34m:\u001b[0m\u001b[0;34m\u001b[0m\u001b[0;34m\u001b[0m\u001b[0m\n\u001b[0m\u001b[1;32m      8\u001b[0m         \u001b[0mnet_spin_j\u001b[0m\u001b[0;34m.\u001b[0m\u001b[0mappend\u001b[0m\u001b[0;34m(\u001b[0m\u001b[0mnp\u001b[0m\u001b[0;34m.\u001b[0m\u001b[0mabs\u001b[0m\u001b[0;34m(\u001b[0m\u001b[0mnet_spin_i\u001b[0m\u001b[0;34m)\u001b[0m\u001b[0;34m)\u001b[0m\u001b[0;34m\u001b[0m\u001b[0;34m\u001b[0m\u001b[0m\n\u001b[1;32m      9\u001b[0m     \u001b[0mnet_spin\u001b[0m\u001b[0;34m.\u001b[0m\u001b[0mappend\u001b[0m\u001b[0;34m(\u001b[0m\u001b[0mnp\u001b[0m\u001b[0;34m.\u001b[0m\u001b[0maverage\u001b[0m\u001b[0;34m(\u001b[0m\u001b[0mnet_spin_j\u001b[0m\u001b[0;34m)\u001b[0m\u001b[0;34m)\u001b[0m\u001b[0;34m\u001b[0m\u001b[0;34m\u001b[0m\u001b[0m\n",
      "\u001b[0;32m/Users/jiang/anaconda/lib/python3.6/multiprocessing/pool.py\u001b[0m in \u001b[0;36mnext\u001b[0;34m(self, timeout)\u001b[0m\n\u001b[1;32m    722\u001b[0m                 \u001b[0;32mif\u001b[0m \u001b[0mself\u001b[0m\u001b[0;34m.\u001b[0m\u001b[0m_index\u001b[0m \u001b[0;34m==\u001b[0m \u001b[0mself\u001b[0m\u001b[0;34m.\u001b[0m\u001b[0m_length\u001b[0m\u001b[0;34m:\u001b[0m\u001b[0;34m\u001b[0m\u001b[0;34m\u001b[0m\u001b[0m\n\u001b[1;32m    723\u001b[0m                     \u001b[0;32mraise\u001b[0m \u001b[0mStopIteration\u001b[0m\u001b[0;34m\u001b[0m\u001b[0;34m\u001b[0m\u001b[0m\n\u001b[0;32m--> 724\u001b[0;31m                 \u001b[0mself\u001b[0m\u001b[0;34m.\u001b[0m\u001b[0m_cond\u001b[0m\u001b[0;34m.\u001b[0m\u001b[0mwait\u001b[0m\u001b[0;34m(\u001b[0m\u001b[0mtimeout\u001b[0m\u001b[0;34m)\u001b[0m\u001b[0;34m\u001b[0m\u001b[0;34m\u001b[0m\u001b[0m\n\u001b[0m\u001b[1;32m    725\u001b[0m                 \u001b[0;32mtry\u001b[0m\u001b[0;34m:\u001b[0m\u001b[0;34m\u001b[0m\u001b[0;34m\u001b[0m\u001b[0m\n\u001b[1;32m    726\u001b[0m                     \u001b[0mitem\u001b[0m \u001b[0;34m=\u001b[0m \u001b[0mself\u001b[0m\u001b[0;34m.\u001b[0m\u001b[0m_items\u001b[0m\u001b[0;34m.\u001b[0m\u001b[0mpopleft\u001b[0m\u001b[0;34m(\u001b[0m\u001b[0;34m)\u001b[0m\u001b[0;34m\u001b[0m\u001b[0;34m\u001b[0m\u001b[0m\n",
      "\u001b[0;32m/Users/jiang/anaconda/lib/python3.6/threading.py\u001b[0m in \u001b[0;36mwait\u001b[0;34m(self, timeout)\u001b[0m\n\u001b[1;32m    293\u001b[0m         \u001b[0;32mtry\u001b[0m\u001b[0;34m:\u001b[0m    \u001b[0;31m# restore state no matter what (e.g., KeyboardInterrupt)\u001b[0m\u001b[0;34m\u001b[0m\u001b[0;34m\u001b[0m\u001b[0m\n\u001b[1;32m    294\u001b[0m             \u001b[0;32mif\u001b[0m \u001b[0mtimeout\u001b[0m \u001b[0;32mis\u001b[0m \u001b[0;32mNone\u001b[0m\u001b[0;34m:\u001b[0m\u001b[0;34m\u001b[0m\u001b[0;34m\u001b[0m\u001b[0m\n\u001b[0;32m--> 295\u001b[0;31m                 \u001b[0mwaiter\u001b[0m\u001b[0;34m.\u001b[0m\u001b[0macquire\u001b[0m\u001b[0;34m(\u001b[0m\u001b[0;34m)\u001b[0m\u001b[0;34m\u001b[0m\u001b[0;34m\u001b[0m\u001b[0m\n\u001b[0m\u001b[1;32m    296\u001b[0m                 \u001b[0mgotit\u001b[0m \u001b[0;34m=\u001b[0m \u001b[0;32mTrue\u001b[0m\u001b[0;34m\u001b[0m\u001b[0;34m\u001b[0m\u001b[0m\n\u001b[1;32m    297\u001b[0m             \u001b[0;32melse\u001b[0m\u001b[0;34m:\u001b[0m\u001b[0;34m\u001b[0m\u001b[0;34m\u001b[0m\u001b[0m\n",
      "\u001b[0;31mKeyboardInterrupt\u001b[0m: "
     ]
    },
    {
     "name": "stderr",
     "output_type": "stream",
     "text": [
      "Process ForkPoolWorker-7:\n",
      "Process ForkPoolWorker-6:\n",
      "Process ForkPoolWorker-5:\n",
      "Traceback (most recent call last):\n",
      "Traceback (most recent call last):\n",
      "  File \"/Users/jiang/anaconda/lib/python3.6/multiprocessing/process.py\", line 258, in _bootstrap\n",
      "    self.run()\n",
      "  File \"/Users/jiang/anaconda/lib/python3.6/multiprocessing/process.py\", line 93, in run\n",
      "    self._target(*self._args, **self._kwargs)\n",
      "  File \"/Users/jiang/anaconda/lib/python3.6/multiprocessing/process.py\", line 258, in _bootstrap\n",
      "    self.run()\n",
      "  File \"/Users/jiang/anaconda/lib/python3.6/multiprocessing/process.py\", line 93, in run\n",
      "    self._target(*self._args, **self._kwargs)\n",
      "  File \"/Users/jiang/anaconda/lib/python3.6/multiprocessing/pool.py\", line 119, in worker\n",
      "    result = (True, func(*args, **kwds))\n",
      "Process ForkPoolWorker-8:\n",
      "Traceback (most recent call last):\n",
      "  File \"<ipython-input-4-64db13a43f22>\", line 6, in main\n",
      "    net_spin_i = np.average(M_T(init_config, i)[0])\n",
      "  File \"/Users/jiang/anaconda/lib/python3.6/multiprocessing/pool.py\", line 119, in worker\n",
      "    result = (True, func(*args, **kwds))\n",
      "  File \"<ipython-input-2-c572d10278d5>\", line 17, in M_T\n",
      "    if site_b == (N-1):\n",
      "  File \"/Users/jiang/anaconda/lib/python3.6/site-packages/numpy/core/fromnumeric.py\", line 57, in _wrapfunc\n",
      "    return getattr(obj, method)(*args, **kwds)\n",
      "Traceback (most recent call last):\n",
      "  File \"/Users/jiang/anaconda/lib/python3.6/site-packages/numpy/core/fromnumeric.py\", line 57, in _wrapfunc\n",
      "    return getattr(obj, method)(*args, **kwds)\n",
      "AttributeError: 'float' object has no attribute 'round'\n",
      "KeyboardInterrupt\n",
      "\n",
      "During handling of the above exception, another exception occurred:\n",
      "\n",
      "Traceback (most recent call last):\n",
      "  File \"/Users/jiang/anaconda/lib/python3.6/multiprocessing/process.py\", line 258, in _bootstrap\n",
      "    self.run()\n",
      "  File \"/Users/jiang/anaconda/lib/python3.6/multiprocessing/process.py\", line 93, in run\n",
      "    self._target(*self._args, **self._kwargs)\n",
      "  File \"<ipython-input-4-64db13a43f22>\", line 6, in main\n",
      "    net_spin_i = np.average(M_T(init_config, i)[0])\n",
      "  File \"/Users/jiang/anaconda/lib/python3.6/multiprocessing/pool.py\", line 119, in worker\n",
      "    result = (True, func(*args, **kwds))\n",
      "  File \"<ipython-input-4-64db13a43f22>\", line 6, in main\n",
      "    net_spin_i = np.average(M_T(init_config, i)[0])\n",
      "  File \"<ipython-input-2-c572d10278d5>\", line 6, in M_T\n",
      "    site_a = np.round(random.random() * (N-1)); site_b = np.round(random.random() * (N-1))\n",
      "  File \"/Users/jiang/anaconda/lib/python3.6/site-packages/numpy/core/fromnumeric.py\", line 2783, in round_\n",
      "    return around(a, decimals=decimals, out=out)\n",
      "  File \"/Users/jiang/anaconda/lib/python3.6/site-packages/numpy/core/fromnumeric.py\", line 2769, in around\n",
      "    return _wrapfunc(a, 'round', decimals=decimals, out=out)\n",
      "  File \"/Users/jiang/anaconda/lib/python3.6/site-packages/numpy/core/fromnumeric.py\", line 67, in _wrapfunc\n",
      "    return _wrapit(obj, method, *args, **kwds)\n",
      "  File \"/Users/jiang/anaconda/lib/python3.6/site-packages/numpy/core/fromnumeric.py\", line 47, in _wrapit\n",
      "    result = getattr(asarray(obj), method)(*args, **kwds)\n",
      "AttributeError: 'float' object has no attribute 'round'\n",
      "  File \"/Users/jiang/anaconda/lib/python3.6/site-packages/numpy/core/numeric.py\", line 531, in asarray\n",
      "    return array(a, dtype, copy=False, order=order)\n",
      "  File \"<ipython-input-2-c572d10278d5>\", line 32, in M_T\n",
      "    Net_spin.append(np.sum(Spin_config))\n",
      "KeyboardInterrupt\n",
      "KeyboardInterrupt\n",
      "\n",
      "During handling of the above exception, another exception occurred:\n",
      "\n",
      "Traceback (most recent call last):\n",
      "  File \"/Users/jiang/anaconda/lib/python3.6/site-packages/numpy/core/fromnumeric.py\", line 44, in _wrapit\n",
      "    wrap = obj.__array_wrap__\n",
      "AttributeError: 'float' object has no attribute '__array_wrap__'\n",
      "\n",
      "During handling of the above exception, another exception occurred:\n",
      "\n",
      "Traceback (most recent call last):\n",
      "  File \"/Users/jiang/anaconda/lib/python3.6/multiprocessing/process.py\", line 258, in _bootstrap\n",
      "    self.run()\n",
      "  File \"/Users/jiang/anaconda/lib/python3.6/multiprocessing/process.py\", line 93, in run\n",
      "    self._target(*self._args, **self._kwargs)\n",
      "  File \"/Users/jiang/anaconda/lib/python3.6/multiprocessing/pool.py\", line 119, in worker\n",
      "    result = (True, func(*args, **kwds))\n",
      "  File \"<ipython-input-4-64db13a43f22>\", line 6, in main\n",
      "    net_spin_i = np.average(M_T(init_config, i)[0])\n",
      "  File \"<ipython-input-2-c572d10278d5>\", line 6, in M_T\n",
      "    site_a = np.round(random.random() * (N-1)); site_b = np.round(random.random() * (N-1))\n",
      "  File \"/Users/jiang/anaconda/lib/python3.6/site-packages/numpy/core/fromnumeric.py\", line 2783, in round_\n",
      "    return around(a, decimals=decimals, out=out)\n",
      "  File \"/Users/jiang/anaconda/lib/python3.6/site-packages/numpy/core/fromnumeric.py\", line 2769, in around\n",
      "    return _wrapfunc(a, 'round', decimals=decimals, out=out)\n",
      "  File \"/Users/jiang/anaconda/lib/python3.6/site-packages/numpy/core/fromnumeric.py\", line 67, in _wrapfunc\n",
      "    return _wrapit(obj, method, *args, **kwds)\n",
      "  File \"/Users/jiang/anaconda/lib/python3.6/site-packages/numpy/core/fromnumeric.py\", line 44, in _wrapit\n",
      "    wrap = obj.__array_wrap__\n",
      "KeyboardInterrupt\n"
     ]
    }
   ],
   "source": [
    "net_spin = []\n",
    "for i in np.arange(1, 10, 1):\n",
    "    net_spin_j = []\n",
    "    cores = multiprocessing.cpu_count()\n",
    "    print(cores)\n",
    "    pool = Pool(processes=cores)\n",
    "    for net_spin_i in pool.imap(main, range(1000)):\n",
    "        net_spin_j.append(np.abs(net_spin_i))\n",
    "    net_spin.append(np.average(net_spin_j))\n",
    "print('total time cost', time.time()-start_time)\n",
    "plt.rc('text', usetex=True)\n",
    "plt.plot(np.arange(1, 10, 1), net_spin); \n",
    "plt.xlabel('Temperature/ J $\\cdot$ $k_B^{-1}$');plt.ylabel('M / $\\mu $');plt.show()"
   ]
  },
  {
   "cell_type": "markdown",
   "metadata": {},
   "source": [
    "Shown above is the temperature dependence of the energy "
   ]
  },
  {
   "cell_type": "code",
   "execution_count": null,
   "metadata": {},
   "outputs": [],
   "source": []
  },
  {
   "cell_type": "code",
   "execution_count": null,
   "metadata": {},
   "outputs": [],
   "source": []
  }
 ],
 "metadata": {
  "kernelspec": {
   "display_name": "Python 3",
   "language": "python",
   "name": "python3"
  },
  "language_info": {
   "codemirror_mode": {
    "name": "ipython",
    "version": 3
   },
   "file_extension": ".py",
   "mimetype": "text/x-python",
   "name": "python",
   "nbconvert_exporter": "python",
   "pygments_lexer": "ipython3",
   "version": "3.6.8"
  }
 },
 "nbformat": 4,
 "nbformat_minor": 2
}
